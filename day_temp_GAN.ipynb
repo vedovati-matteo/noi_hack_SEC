{
 "cells": [
  {
   "cell_type": "code",
   "execution_count": 1,
   "metadata": {},
   "outputs": [],
   "source": [
    "import pandas as pd\n",
    "import torch\n",
    "import torch.nn as nn\n",
    "import torch.optim as optim\n",
    "from torch.utils.data import DataLoader, TensorDataset, random_split\n",
    "import numpy as np"
   ]
  },
  {
   "cell_type": "code",
   "execution_count": 2,
   "metadata": {},
   "outputs": [],
   "source": [
    "f_l = [\"datasets/ext_1.csv\", \"datasets/ext_2.csv\", \"datasets/ext_3.csv\", \"datasets/ext_4.csv\", \"datasets/ext_5.csv\"]\n",
    "timeseries = []\n",
    "for f in f_l:\n",
    "    # Read the CSV file\n",
    "    df = pd.read_csv(f)\n",
    "\n",
    "    # Convert the \"Date and time\" column to datetime\n",
    "    df['Date and time'] = pd.to_datetime(df['Date and time'])\n",
    "\n",
    "    # Extract the date and time components\n",
    "    df['Date'] = df['Date and time'].dt.date\n",
    "\n",
    "    # Group by the date\n",
    "    grouped = df.groupby('Date')\n",
    "\n",
    "    # Prepare a list to collect valid days data\n",
    "    valid_days = []\n",
    "\n",
    "    # Iterate over each group\n",
    "    for date, group in grouped:\n",
    "        if len(group) == 96:\n",
    "            valid_days.append(group['External temperature (Celsius degree)'].values)\n",
    "\n",
    "    # Convert the list of valid days to a numpy array (tensor)\n",
    "    timeseries.append(torch.tensor(np.array(valid_days)))"
   ]
  },
  {
   "cell_type": "code",
   "execution_count": 5,
   "metadata": {},
   "outputs": [],
   "source": [
    "all_timeseries = torch.cat(timeseries, dim=0)"
   ]
  },
  {
   "cell_type": "code",
   "execution_count": 6,
   "metadata": {},
   "outputs": [
    {
     "data": {
      "text/plain": [
       "torch.Size([1521, 96])"
      ]
     },
     "execution_count": 6,
     "metadata": {},
     "output_type": "execute_result"
    }
   ],
   "source": [
    "all_timeseries.shape"
   ]
  },
  {
   "cell_type": "code",
   "execution_count": 8,
   "metadata": {},
   "outputs": [],
   "source": [
    "daily_avg_temp = torch.mean(all_timeseries, dim=1, keepdim=True)"
   ]
  },
  {
   "cell_type": "code",
   "execution_count": 9,
   "metadata": {},
   "outputs": [
    {
     "data": {
      "text/plain": [
       "torch.Size([1521, 1])"
      ]
     },
     "execution_count": 9,
     "metadata": {},
     "output_type": "execute_result"
    }
   ],
   "source": [
    "daily_avg_temp.shape"
   ]
  },
  {
   "cell_type": "code",
   "execution_count": 10,
   "metadata": {},
   "outputs": [],
   "source": [
    "# Hyperparameters\n",
    "noise_dim = 100  # Latent vector size\n",
    "hidden_dim = 256  # Size of hidden layers\n",
    "output_dim = 96  # Number of 15-minute intervals in a day\n",
    "\n",
    "# Learning rates and training parameters\n",
    "lr = 1e-3\n",
    "batch_size = 32\n",
    "num_epochs = 100"
   ]
  },
  {
   "cell_type": "code",
   "execution_count": 11,
   "metadata": {},
   "outputs": [],
   "source": [
    "dataset = TensorDataset(daily_avg_temp, all_timeseries)\n",
    "\n",
    "train_size = int(0.95 * len(dataset))\n",
    "val_size = len(dataset) - train_size\n",
    "\n",
    "# Split the dataset\n",
    "train_dataset, val_dataset = random_split(dataset, [train_size, val_size])\n",
    "\n",
    "# Create DataLoaders for training and validation sets\n",
    "train_loader = DataLoader(train_dataset, batch_size=batch_size, shuffle=True)\n",
    "val_loader = DataLoader(val_dataset, batch_size=batch_size, shuffle=False)"
   ]
  },
  {
   "cell_type": "code",
   "execution_count": null,
   "metadata": {},
   "outputs": [],
   "source": [
    "class Generator(nn.Module):\n",
    "    def __init__(self, noise_dim, hidden_dim, output_dim):\n",
    "        super(Generator, self).__init__()\n",
    "        self.model = nn.Sequential(\n",
    "            nn.Linear(noise_dim + 1, hidden_dim),  # noise_dim + 1 for avg_temp\n",
    "            nn.ReLU(),\n",
    "            nn.Linear(hidden_dim, hidden_dim * 2),\n",
    "            nn.ReLU(),\n",
    "            nn.Linear(hidden_dim * 2, hidden_dim),\n",
    "            nn.ReLU(),\n",
    "            nn.Linear(hidden_dim, output_dim)  # Output 96 values\n",
    "        )\n",
    "    \n",
    "    def forward(self, noise, avg_temp):\n",
    "        avg_temp = avg_temp.view(-1, 1)  # Ensure avg_temp is the right shape\n",
    "        x = torch.cat((noise, avg_temp), dim=1)\n",
    "        return self.model(x)\n",
    "\n",
    "class Discriminator(nn.Module):\n",
    "    def __init__(self, input_dim, hidden_dim, output_dim):\n",
    "        super(Discriminator, self).__init__()\n",
    "        self.model = nn.Sequential(\n",
    "            nn.Linear(input_dim + 1, hidden_dim),  # input_dim + 1 for avg_temp\n",
    "            nn.LeakyReLU(0.2),\n",
    "            nn.Linear(hidden_dim, hidden_dim * 2),\n",
    "            nn.LeakyReLU(0.2),\n",
    "            nn.Linear(hidden_dim * 2, hidden_dim),\n",
    "            nn.LeakyReLU(0.2),\n",
    "            nn.Linear(hidden_dim, output_dim),\n",
    "            nn.Sigmoid()  # Output probability\n",
    "        )\n",
    "    \n",
    "    def forward(self, timeseries, avg_temp):\n",
    "        avg_temp = avg_temp.view(-1, 1)  # Ensure avg_temp is the right shape\n",
    "        x = torch.cat((timeseries, avg_temp), dim=1)\n",
    "        return self.model(x)"
   ]
  },
  {
   "cell_type": "code",
   "execution_count": null,
   "metadata": {},
   "outputs": [],
   "source": []
  },
  {
   "cell_type": "code",
   "execution_count": null,
   "metadata": {},
   "outputs": [],
   "source": [
    "# Initialize models\n",
    "generator = Generator(noise_dim, hidden_dim, output_dim)\n",
    "discriminator = Discriminator(output_dim, hidden_dim, 1)\n",
    "\n",
    "# Optimizers\n",
    "optimizer_g = optim.Adam(generator.parameters(), lr=lr)\n",
    "optimizer_d = optim.Adam(discriminator.parameters(), lr=lr)\n",
    "\n",
    "# Loss function\n",
    "criterion = nn.BCELoss()"
   ]
  },
  {
   "cell_type": "code",
   "execution_count": null,
   "metadata": {},
   "outputs": [],
   "source": [
    "# Training loop\n",
    "for epoch in range(num_epochs):\n",
    "    for i, (avg_temp, real_timeseries) in enumerate(train_loader):\n",
    "        \n",
    "        batch_size = avg_temp.size(0)\n",
    "        \n",
    "        # Labels\n",
    "        real_labels = torch.ones(batch_size, 1)\n",
    "        fake_labels = torch.zeros(batch_size, 1)\n",
    "        \n",
    "        # Train Discriminator\n",
    "        optimizer_d.zero_grad()\n",
    "        \n",
    "        # Real timeseries\n",
    "        real_output = discriminator(real_timeseries, avg_temp)\n",
    "        d_loss_real = criterion(real_output, real_labels)\n",
    "        \n",
    "        # Fake timeseries\n",
    "        noise = torch.randn(batch_size, noise_dim)\n",
    "        fake_timeseries = generator(noise, avg_temp)\n",
    "        fake_output = discriminator(fake_timeseries, avg_temp)\n",
    "        d_loss_fake = criterion(fake_output, fake_labels)\n",
    "        \n",
    "        # Total discriminator loss\n",
    "        d_loss = d_loss_real + d_loss_fake\n",
    "        d_loss.backward()\n",
    "        optimizer_d.step()\n",
    "        \n",
    "        # Train Generator\n",
    "        optimizer_g.zero_grad()\n",
    "        \n",
    "        noise = torch.randn(batch_size, noise_dim)\n",
    "        fake_timeseries = generator(noise, avg_temp)\n",
    "        fake_output = discriminator(fake_timeseries, avg_temp)\n",
    "        \n",
    "        # Generator loss\n",
    "        g_loss = criterion(fake_output, real_labels)\n",
    "        g_loss.backward()\n",
    "        optimizer_g.step()\n",
    "        \n",
    "    print(f'Epoch [{epoch+1}/{num_epochs}], d_loss: {d_loss.item()}, g_loss: {g_loss.item()}')\n",
    "\n"
   ]
  },
  {
   "cell_type": "code",
   "execution_count": null,
   "metadata": {},
   "outputs": [],
   "source": [
    "# Validation phase\n",
    "    generator.eval()\n",
    "    discriminator.eval()\n",
    "    val_d_loss = 0\n",
    "    val_g_loss = 0\n",
    "    with torch.no_grad():\n",
    "        for avg_temp, real_timeseries in val_loader:\n",
    "            batch_size = avg_temp.size(0)\n",
    "            real_labels = torch.ones(batch_size, 1)\n",
    "            fake_labels = torch.zeros(batch_size, 1)\n",
    "            \n",
    "            # Real timeseries\n",
    "            real_output = discriminator(real_timeseries, avg_temp)\n",
    "            val_d_loss_real = criterion(real_output, real_labels)\n",
    "            \n",
    "            # Fake timeseries\n",
    "            noise = torch.randn(batch_size, noise_dim)\n",
    "            fake_timeseries = generator(noise, avg_temp)\n",
    "            fake_output = discriminator(fake_timeseries, avg_temp)\n",
    "            val_d_loss_fake = criterion(fake_output, fake_labels)\n",
    "            \n",
    "            # Total discriminator loss\n",
    "            val_d_loss += val_d_loss_real + val_d_loss_fake\n",
    "            \n",
    "            # Generator loss\n",
    "            fake_output = discriminator(fake_timeseries, avg_temp)\n",
    "            val_g_loss += criterion(fake_output, real_labels)\n",
    "        \n",
    "        # Average losses\n",
    "        val_d_loss /= len(val_loader)\n",
    "        val_g_loss /= len(val_loader)\n",
    "    \n",
    "    print(f'Validation d_loss: {val_d_loss.item()}, g_loss: {val_g_loss.item()}')"
   ]
  },
  {
   "cell_type": "code",
   "execution_count": null,
   "metadata": {},
   "outputs": [],
   "source": [
    "# Generate new timeseries\n",
    "generator.eval()\n",
    "with torch.no_grad():\n",
    "    noise = torch.randn(1, noise_dim)\n",
    "    avg_temp = torch.tensor([[your_avg_temp]])\n",
    "    generated_timeseries = generator(noise, avg_temp)\n",
    "    print(generated_timeseries)"
   ]
  }
 ],
 "metadata": {
  "kernelspec": {
   "display_name": "noi",
   "language": "python",
   "name": "python3"
  },
  "language_info": {
   "codemirror_mode": {
    "name": "ipython",
    "version": 3
   },
   "file_extension": ".py",
   "mimetype": "text/x-python",
   "name": "python",
   "nbconvert_exporter": "python",
   "pygments_lexer": "ipython3",
   "version": "3.12.4"
  },
  "orig_nbformat": 4
 },
 "nbformat": 4,
 "nbformat_minor": 2
}
